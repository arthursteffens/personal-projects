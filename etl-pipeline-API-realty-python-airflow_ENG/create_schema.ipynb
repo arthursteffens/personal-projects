{
 "cells": [
  {
   "cell_type": "code",
   "execution_count": null,
   "metadata": {},
   "outputs": [],
   "source": [
    "# Packages\n",
    "import pymysql"
   ]
  },
  {
   "cell_type": "code",
   "execution_count": null,
   "metadata": {},
   "outputs": [],
   "source": [
    "# Create a connection with the database service in local machine\n",
    "con = pymysql.connect(host ='localhost', port=int(3306), user='arthur', passwd='123456')\n",
    "\n",
    "# Creating a cursor object\n",
    "cursor = con.cursor()"
   ]
  },
  {
   "cell_type": "code",
   "execution_count": null,
   "metadata": {},
   "outputs": [],
   "source": [
    "# Create a schema called realty\n",
    "cursor.execute('''\n",
    "    DROP SCHEMA IF EXISTS realty;\n",
    "''')\n",
    "\n",
    "cursor.execute('''\n",
    "    CREATE SCHEMA realty;\n",
    "''')\n",
    "\n",
    "# Use the new schema\n",
    "cursor.execute('''\n",
    "    USE realty;\n",
    "''')"
   ]
  },
  {
   "cell_type": "code",
   "execution_count": null,
   "metadata": {},
   "outputs": [],
   "source": [
    "# Create tables SALES\n",
    "cursor.execute('''\n",
    "    CREATE TABLE sales (\n",
    "        property_id VARCHAR(12),\n",
    "        prop_type VARCHAR(20),\n",
    "        prop_status VARCHAR(20),\n",
    "        price INT,\n",
    "        baths INT,\n",
    "        beds FLOAT,\n",
    "        address_city VARCHAR(50),\n",
    "        address_line VARCHAR(200),\n",
    "        address_state_code CHAR(2),\n",
    "        address_state VARCHAR(50),\n",
    "        address_county VARCHAR(50),\n",
    "        addres_lat DOUBLE,\n",
    "        address_lon DOUBLE,\n",
    "        address_neighborhood_name VARCHAR(50)\n",
    "    )\n",
    "''')"
   ]
  },
  {
   "cell_type": "code",
   "execution_count": null,
   "id": "5f6c2f24",
   "metadata": {},
   "outputs": [],
   "source": [
    "# Create table RENTS\n",
    "cursor.execute('''\n",
    "    DROP TABLE IF EXISTS rents;\n",
    "''')\n",
    "\n",
    "# Create table RENTS\n",
    "cursor.execute('''\n",
    "    CREATE TABLE rents (\n",
    "        property_id VARCHAR(12),\n",
    "        prop_type VARCHAR(20),\n",
    "        prop_status VARCHAR(20),\n",
    "        year_built INT,\n",
    "        address_city VARCHAR(50),\n",
    "        address_line VARCHAR(200),\n",
    "        address_state_code CHAR(2),\n",
    "        address_state VARCHAR(50),\n",
    "        address_county VARCHAR(50),\n",
    "        address_lat DOUBLE,\n",
    "        address_lon DOUBLE,\n",
    "        address_neighborhood_name VARCHAR(50),\n",
    "        community_price_max INT,\n",
    "        community_price_min INT\n",
    "    )\n",
    "''')"
   ]
  },
  {
   "cell_type": "code",
   "execution_count": null,
   "id": "350de5fa",
   "metadata": {},
   "outputs": [],
   "source": [
    "# Create table SOLD\n",
    "cursor.execute('''\n",
    "    DROP TABLE IF EXISTS sold;\n",
    "''')\n",
    "\n",
    "# Create table SOLD\n",
    "cursor.execute('''\n",
    "    CREATE TABLE sold (\n",
    "        property_id VARCHAR(12),\n",
    "        prop_type VARCHAR(20),\n",
    "        prop_status VARCHAR(20),\n",
    "        year_built INT,\n",
    "        price INT,\n",
    "        baths INT,\n",
    "        beds FLOAT,\n",
    "        address_city VARCHAR(50),\n",
    "        address_line VARCHAR(200),\n",
    "        address_state_code CHAR(2),\n",
    "        address_state VARCHAR(50),\n",
    "        address_county VARCHAR(50),\n",
    "        address_lat DOUBLE,\n",
    "        address_lon DOUBLE,\n",
    "        address_neighborhood_name VARCHAR(50)\n",
    "    )\n",
    "''')"
   ]
  }
 ],
 "metadata": {
  "language_info": {
   "name": "python"
  },
  "orig_nbformat": 4
 },
 "nbformat": 4,
 "nbformat_minor": 2
}
