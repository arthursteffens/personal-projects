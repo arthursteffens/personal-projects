{
 "cells": [
  {
   "cell_type": "code",
   "execution_count": 6,
   "metadata": {},
   "outputs": [],
   "source": [
    "# Packages\n",
    "import pymysql"
   ]
  },
  {
   "cell_type": "code",
   "execution_count": 24,
   "metadata": {},
   "outputs": [],
   "source": [
    "# Create a connection with the database service in local machine\n",
    "con = pymysql.connect(host ='db-realty.ctu8ks44oyou.us-east-1.rds.amazonaws.com', port=int(3306), user='admin', passwd='')\n",
    "\n",
    "# Creating a cursor object\n",
    "cursor = con.cursor()"
   ]
  },
  {
   "cell_type": "code",
   "execution_count": 9,
   "metadata": {},
   "outputs": [
    {
     "data": {
      "text/plain": [
       "0"
      ]
     },
     "execution_count": 9,
     "metadata": {},
     "output_type": "execute_result"
    }
   ],
   "source": [
    "# Create a schema called realty\n",
    "cursor.execute('''\n",
    "    DROP SCHEMA IF EXISTS realty;\n",
    "''')\n",
    "\n",
    "cursor.execute('''\n",
    "    CREATE SCHEMA realty;\n",
    "''')\n",
    "\n",
    "# Use the new schema\n",
    "cursor.execute('''\n",
    "    USE realty;\n",
    "''')"
   ]
  },
  {
   "cell_type": "code",
   "execution_count": 10,
   "metadata": {},
   "outputs": [
    {
     "data": {
      "text/plain": [
       "0"
      ]
     },
     "execution_count": 10,
     "metadata": {},
     "output_type": "execute_result"
    }
   ],
   "source": [
    "# Create tables SALES\n",
    "cursor.execute('''\n",
    "    CREATE TABLE sales (\n",
    "        property_id VARCHAR(12),\n",
    "        prop_type VARCHAR(20),\n",
    "        prop_status VARCHAR(20),\n",
    "        price INT,\n",
    "        baths INT,\n",
    "        beds FLOAT,\n",
    "        address_city VARCHAR(50),\n",
    "        address_line VARCHAR(200),\n",
    "        address_state_code CHAR(2),\n",
    "        address_state VARCHAR(50),\n",
    "        address_county VARCHAR(50),\n",
    "        addres_lat DOUBLE,\n",
    "        address_lon DOUBLE,\n",
    "        address_neighborhood_name VARCHAR(50)\n",
    "    )\n",
    "''')"
   ]
  },
  {
   "cell_type": "code",
   "execution_count": 11,
   "id": "5f6c2f24",
   "metadata": {},
   "outputs": [
    {
     "data": {
      "text/plain": [
       "0"
      ]
     },
     "execution_count": 11,
     "metadata": {},
     "output_type": "execute_result"
    }
   ],
   "source": [
    "# Create table RENTS\n",
    "cursor.execute('''\n",
    "    DROP TABLE IF EXISTS rents;\n",
    "''')\n",
    "\n",
    "# Create table RENTS\n",
    "cursor.execute('''\n",
    "    CREATE TABLE rents (\n",
    "        property_id VARCHAR(12),\n",
    "        prop_type VARCHAR(20),\n",
    "        prop_status VARCHAR(20),\n",
    "        year_built INT,\n",
    "        address_city VARCHAR(50),\n",
    "        address_line VARCHAR(200),\n",
    "        address_state_code CHAR(2),\n",
    "        address_state VARCHAR(50),\n",
    "        address_county VARCHAR(50),\n",
    "        address_lat DOUBLE,\n",
    "        address_lon DOUBLE,\n",
    "        address_neighborhood_name VARCHAR(50),\n",
    "        community_price_max INT,\n",
    "        community_price_min INT\n",
    "    )\n",
    "''')"
   ]
  },
  {
   "cell_type": "code",
   "execution_count": 12,
   "id": "350de5fa",
   "metadata": {},
   "outputs": [
    {
     "data": {
      "text/plain": [
       "0"
      ]
     },
     "execution_count": 12,
     "metadata": {},
     "output_type": "execute_result"
    }
   ],
   "source": [
    "# Create table SOLD\n",
    "cursor.execute('''\n",
    "    DROP TABLE IF EXISTS sold;\n",
    "''')\n",
    "\n",
    "# Create table SOLD\n",
    "cursor.execute('''\n",
    "    CREATE TABLE sold (\n",
    "        property_id VARCHAR(12),\n",
    "        prop_type VARCHAR(20),\n",
    "        prop_status VARCHAR(20),\n",
    "        year_built INT,\n",
    "        price INT,\n",
    "        baths INT,\n",
    "        beds FLOAT,\n",
    "        address_city VARCHAR(50),\n",
    "        address_line VARCHAR(200),\n",
    "        address_state_code CHAR(2),\n",
    "        address_state VARCHAR(50),\n",
    "        address_county VARCHAR(50),\n",
    "        address_lat DOUBLE,\n",
    "        address_lon DOUBLE,\n",
    "        address_neighborhood_name VARCHAR(50)\n",
    "    )\n",
    "''')"
   ]
  },
  {
   "cell_type": "code",
   "execution_count": 22,
   "metadata": {},
   "outputs": [
    {
     "data": {
      "text/plain": [
       "(('rents',), ('sales',), ('sold',))"
      ]
     },
     "execution_count": 22,
     "metadata": {},
     "output_type": "execute_result"
    }
   ],
   "source": [
    "cursor.execute('''\n",
    "    SHOW TABLES;\n",
    "''')\n",
    "\n",
    "cursor.fetchall()"
   ]
  },
  {
   "cell_type": "code",
   "execution_count": 23,
   "metadata": {},
   "outputs": [],
   "source": [
    "con.close()"
   ]
  }
 ],
 "metadata": {
  "interpreter": {
   "hash": "d56c3d14ea9991e943607aaebbc638fd1a0bf32b388456ff8fce30f8fe2dda91"
  },
  "kernelspec": {
   "display_name": "Python 3.10.4 64-bit",
   "language": "python",
   "name": "python3"
  },
  "language_info": {
   "codemirror_mode": {
    "name": "ipython",
    "version": 3
   },
   "file_extension": ".py",
   "mimetype": "text/x-python",
   "name": "python",
   "nbconvert_exporter": "python",
   "pygments_lexer": "ipython3",
   "version": "3.10.4"
  },
  "orig_nbformat": 4
 },
 "nbformat": 4,
 "nbformat_minor": 2
}
