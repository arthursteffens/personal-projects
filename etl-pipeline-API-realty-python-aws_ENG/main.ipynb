{
 "cells": [
  {
   "cell_type": "code",
   "execution_count": 3,
   "id": "466f0c42",
   "metadata": {},
   "outputs": [],
   "source": [
    "from db_funcs import insert_into_mysql\n",
    "import pymysql\n",
    "import pandas as pd\n",
    "from constants import *\n",
    "from functions import *"
   ]
  },
  {
   "cell_type": "code",
   "execution_count": 2,
   "id": "fcfd2f20",
   "metadata": {},
   "outputs": [],
   "source": [
    "# Pandas options\n",
    "pd.options.display.max_rows = 100\n",
    "pd.options.display.max_columns = 15"
   ]
  },
  {
   "cell_type": "code",
   "execution_count": 4,
   "id": "9b64c99e",
   "metadata": {},
   "outputs": [],
   "source": [
    "con = pymysql.connect(host='localhost', port=3306, user='arthur', passwd='arthurpass')\n",
    "cursor = con.cursor()"
   ]
  },
  {
   "cell_type": "code",
   "execution_count": 5,
   "id": "53544f29",
   "metadata": {},
   "outputs": [
    {
     "data": {
      "text/plain": [
       "0"
      ]
     },
     "execution_count": 5,
     "metadata": {},
     "output_type": "execute_result"
    }
   ],
   "source": [
    "cursor.execute(\"use realty\")"
   ]
  },
  {
   "cell_type": "code",
   "execution_count": 6,
   "id": "ed90c3ab",
   "metadata": {},
   "outputs": [
    {
     "data": {
      "text/plain": [
       "3"
      ]
     },
     "execution_count": 6,
     "metadata": {},
     "output_type": "execute_result"
    }
   ],
   "source": [
    "cursor.execute(\"show tables;\")"
   ]
  },
  {
   "cell_type": "code",
   "execution_count": 8,
   "id": "1b908056",
   "metadata": {},
   "outputs": [],
   "source": [
    "salesdf = get_sales(\"New York City\", \"NY\", \"200\")"
   ]
  },
  {
   "cell_type": "code",
   "execution_count": 9,
   "id": "6e23822c",
   "metadata": {},
   "outputs": [],
   "source": [
    "salesdf = salesdf[SALES_COLS]\n",
    "salesdf = fill_na(salesdf)"
   ]
  },
  {
   "cell_type": "code",
   "execution_count": null,
   "id": "21da14b5",
   "metadata": {},
   "outputs": [],
   "source": [
    "salesdf.isna().sum()"
   ]
  },
  {
   "cell_type": "code",
   "execution_count": null,
   "id": "e1789c7a",
   "metadata": {},
   "outputs": [],
   "source": []
  },
  {
   "cell_type": "code",
   "execution_count": 1,
   "id": "747784ea",
   "metadata": {},
   "outputs": [],
   "source": [
    "from db_funcs import insert_into_mysql"
   ]
  },
  {
   "cell_type": "code",
   "execution_count": 12,
   "id": "8e4bc566",
   "metadata": {},
   "outputs": [],
   "source": [
    "insert_into_mysql(cursor, salesdf, 'sales')"
   ]
  },
  {
   "cell_type": "code",
   "execution_count": 13,
   "id": "93a63164",
   "metadata": {},
   "outputs": [],
   "source": [
    "con.commit()"
   ]
  },
  {
   "cell_type": "markdown",
   "id": "4e6b94ad",
   "metadata": {},
   "source": [
    "# Retrieving data"
   ]
  },
  {
   "cell_type": "code",
   "execution_count": null,
   "id": "4e87ecf7",
   "metadata": {},
   "outputs": [],
   "source": [
    "# List of relevant columns\n",
    "sales_cols = ['property_id', 'prop_type', 'prop_status', 'price', 'baths', 'beds', 'address_city', 'address_line', 'address_state_code', \\\n",
    "    'address_state', 'address_county', 'address_lat', 'address_lon', 'address_neighborhood_name']\n",
    "\n",
    "rents_cols = ['property_id', 'prop_type', 'prop_status', 'year_built', 'address_city', 'address_line', 'address_state_code', 'address_state', \\\n",
    "    'address_county', 'address_lat', 'address_lon', 'address_neighborhood_name', 'community_price_max', 'community_price_min']\n",
    "\n",
    "sold_cols = ['property_id', 'prop_type', 'prop_status', 'year_built', 'price', 'baths', 'beds', 'address_city', 'address_line', 'address_state_code', \\\n",
    "    'address_state', 'address_county', 'address_lat', 'address_lon', 'address_neighborhood_name']"
   ]
  },
  {
   "cell_type": "code",
   "execution_count": null,
   "id": "97c2e41e",
   "metadata": {},
   "outputs": [],
   "source": [
    "# Set the limit to a lower number to first test\n",
    "sales = get_sales(\"New York City\", \"NY\", \"200\")\n",
    "sales = sales[sales_cols]\n",
    "sales.head()"
   ]
  },
  {
   "cell_type": "code",
   "execution_count": null,
   "id": "2ea36b77",
   "metadata": {},
   "outputs": [],
   "source": [
    "rents = get_rent(\"New York City\", \"NY\", \"200\")\n",
    "rents = rents[rents_cols]\n",
    "rents.head()"
   ]
  },
  {
   "cell_type": "code",
   "execution_count": null,
   "id": "7d30073f",
   "metadata": {},
   "outputs": [],
   "source": [
    "sold = get_sold(\"New York City\", \"NY\", \"200\")\n",
    "sold = sold[sold_cols]\n",
    "sold.head()"
   ]
  },
  {
   "cell_type": "code",
   "execution_count": null,
   "id": "dcac334e",
   "metadata": {},
   "outputs": [],
   "source": [
    "# Remove NAN values from dataframes\n",
    "sales = fill_na(sales)\n",
    "rents = fill_na(rents)\n",
    "sold = fill_na(sold)"
   ]
  },
  {
   "cell_type": "code",
   "execution_count": null,
   "id": "d6ee1b80",
   "metadata": {},
   "outputs": [],
   "source": [
    "# Check if there are NAN values\n",
    "sales.isna().sum()"
   ]
  },
  {
   "cell_type": "code",
   "execution_count": null,
   "id": "0ad6fa8b",
   "metadata": {},
   "outputs": [],
   "source": [
    "# For backup purpose, save dataframes into csv files\n",
    "sales.to_csv(\"sales.csv\", index=False)\n",
    "rents.to_csv(\"rents.csv\", index=False)\n",
    "sold.to_csv(\"sold.csv\", index=False)"
   ]
  },
  {
   "cell_type": "code",
   "execution_count": null,
   "id": "dce5a7dc",
   "metadata": {},
   "outputs": [],
   "source": [
    "# sales = pd.read_csv(\"sales.csv\")\n",
    "# rents = pd.read_csv(\"rents.csv\")\n",
    "# sold = pd.read_csv(\"sold.csv\")"
   ]
  },
  {
   "cell_type": "markdown",
   "id": "cfff8428",
   "metadata": {},
   "source": [
    "# Inserting data into MySQL"
   ]
  },
  {
   "cell_type": "code",
   "execution_count": null,
   "id": "4076d61c",
   "metadata": {},
   "outputs": [],
   "source": [
    "# Create a connection with the database service in local machine\n",
    "con = pymysql.connect(host ='db-realty.ctu8ks44oyou.us-east-1.rds.amazonaws.com', port=int(3306), user='admin', passwd='123qweasd')\n",
    "\n",
    "# Creating a cursor object\n",
    "cursor = con.cursor()"
   ]
  },
  {
   "cell_type": "code",
   "execution_count": null,
   "id": "2493a08b",
   "metadata": {},
   "outputs": [],
   "source": [
    "# Use the realty schema\n",
    "cursor.execute('''\n",
    "    USE realty;\n",
    "''')"
   ]
  },
  {
   "cell_type": "code",
   "execution_count": null,
   "id": "d42ed492",
   "metadata": {},
   "outputs": [],
   "source": [
    "# Convert the Dataframe into a list of arrays\n",
    "sales_tuples = tuple(sales.to_records(index=False))\n",
    "\n",
    "for data in range(len(sales_tuples)):\n",
    "    \n",
    "    # Create a new record\n",
    "    query = \"INSERT INTO sales (property_id, prop_type, prop_status, price, baths, beds, address_city, address_line, address_state_code, address_state, \\\n",
    "        address_county, addres_lat, address_lon, address_neighborhood_name) VALUES {}\".format(sales_tuples[data])\n",
    "    \n",
    "    # Execute the query\n",
    "    cursor.execute(query)"
   ]
  },
  {
   "cell_type": "code",
   "execution_count": null,
   "id": "e7ed1573",
   "metadata": {},
   "outputs": [],
   "source": [
    "# Convert the Dataframe into a list of arrays\n",
    "rents_tuples = tuple(rents.to_records(index=False))\n",
    "\n",
    "for data in range(len(rents_tuples)):\n",
    "    \n",
    "    # Create a new record\n",
    "    query = '''\n",
    "        INSERT INTO rents (property_id, prop_type, prop_status, year_built, address_city, address_line, address_state_code, \n",
    "        address_state, address_county, address_lat, address_lon, address_neighborhood_name, community_price_max, community_price_min) \n",
    "        VALUES {}'''.format(rents_tuples[data])\n",
    "    \n",
    "    # Execute the query\n",
    "    cursor.execute(query)"
   ]
  },
  {
   "cell_type": "code",
   "execution_count": null,
   "id": "9d1a55df",
   "metadata": {},
   "outputs": [],
   "source": [
    "# Convert the Dataframe into a list of arrays\n",
    "sold_tuples = tuple(sold.to_records(index=False))\n",
    "\n",
    "for data in range(len(sold_tuples)):\n",
    "    \n",
    "    # Create a new record\n",
    "    query = '''\n",
    "        INSERT INTO sold (property_id, prop_type, prop_status, year_built, price, baths, beds, address_city, address_line, address_state_code, \n",
    "        address_state, address_county, address_lat, address_lon, address_neighborhood_name) \n",
    "        VALUES {}'''.format(sold_tuples[data])\n",
    "    \n",
    "    # Execute the query\n",
    "    cursor.execute(query)"
   ]
  },
  {
   "cell_type": "code",
   "execution_count": null,
   "id": "6dbaa1ac",
   "metadata": {},
   "outputs": [],
   "source": [
    "# Commit\n",
    "con.commit()"
   ]
  },
  {
   "cell_type": "code",
   "execution_count": null,
   "id": "6a8872ff",
   "metadata": {},
   "outputs": [],
   "source": [
    "# Close connection\n",
    "con.close()"
   ]
  }
 ],
 "metadata": {
  "interpreter": {
   "hash": "d56c3d14ea9991e943607aaebbc638fd1a0bf32b388456ff8fce30f8fe2dda91"
  },
  "kernelspec": {
   "display_name": "Python 3.10.4 64-bit",
   "language": "python",
   "name": "python3"
  },
  "language_info": {
   "codemirror_mode": {
    "name": "ipython",
    "version": 3
   },
   "file_extension": ".py",
   "mimetype": "text/x-python",
   "name": "python",
   "nbconvert_exporter": "python",
   "pygments_lexer": "ipython3",
   "version": "3.10.4"
  }
 },
 "nbformat": 4,
 "nbformat_minor": 5
}
