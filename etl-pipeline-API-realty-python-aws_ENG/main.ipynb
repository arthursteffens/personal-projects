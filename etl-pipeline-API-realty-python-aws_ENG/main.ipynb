{
 "cells": [
  {
   "cell_type": "code",
   "execution_count": 3,
   "id": "466f0c42",
   "metadata": {},
   "outputs": [],
   "source": [
    "# Imports\n",
    "import pandas as pd\n",
    "import requests\n",
    "import pymysql"
   ]
  },
  {
   "cell_type": "code",
   "execution_count": 18,
   "id": "fcfd2f20",
   "metadata": {},
   "outputs": [],
   "source": [
    "# Pandas options\n",
    "pd.options.display.max_rows = 100\n",
    "pd.options.display.max_columns = 15"
   ]
  },
  {
   "cell_type": "code",
   "execution_count": 5,
   "id": "8ac7c0da",
   "metadata": {},
   "outputs": [],
   "source": [
    "# Definition of function to get properties for sale\n",
    "# \"city\":\"New York City\",\"state_code\":\"NY\",\"limit\":\"5\"\n",
    "def get_sales(city, state_code, limit):\n",
    "\turl = \"https://realty-in-us.p.rapidapi.com/properties/v2/list-for-sale\"\n",
    "\n",
    "\tquerystring = {\"city\":city,\"state_code\":state_code,\"offset\":\"0\",\"limit\":limit,\"sort\":\"relevance\"}\n",
    "\n",
    "\theaders = {\n",
    "\t\t\"X-RapidAPI-Host\": \"realty-in-us.p.rapidapi.com\",\n",
    "\t\t\"X-RapidAPI-Key\": \"80d4101192msha3850ddbf66ba87p1c5dc9jsn7ad589c1b934\"\n",
    "\t}\n",
    "\ttry:\n",
    "\t\tresponse_sale = pd.json_normalize(requests.request(\"GET\", url, headers=headers, params=querystring).json(), record_path=\"properties\", sep=\"_\")\n",
    "\t\treturn response_sale\n",
    "\texcept:\n",
    "\t\tprint(\"Error\")"
   ]
  },
  {
   "cell_type": "code",
   "execution_count": 6,
   "id": "0484dff0",
   "metadata": {},
   "outputs": [],
   "source": [
    "# Definition of function to get properties to rent\n",
    "# \"city\":\"New York City\",\"state_code\":\"NY\",\"limit\":\"5\"\n",
    "def get_rent(city, state_code, limit):\n",
    "\turl = \"https://realty-in-us.p.rapidapi.com/properties/v2/list-for-rent\"\n",
    "\n",
    "\tquerystring = {\"city\":city,\"state_code\":state_code,\"limit\":limit,\"offset\":\"0\",\"sort\":\"relevance\"}\n",
    "\n",
    "\theaders = {\n",
    "\t\t\"X-RapidAPI-Host\": \"realty-in-us.p.rapidapi.com\",\n",
    "\t\t\"X-RapidAPI-Key\": \"80d4101192msha3850ddbf66ba87p1c5dc9jsn7ad589c1b934\"\n",
    "\t}\n",
    "\n",
    "\ttry:\n",
    "\t\tresponse_rent = pd.json_normalize(requests.request(\"GET\", url, headers=headers, params=querystring).json(), record_path=\"properties\", sep=\"_\")\n",
    "\t\treturn response_rent\n",
    "\texcept:\n",
    "\t\tprint(\"Error\")"
   ]
  },
  {
   "cell_type": "code",
   "execution_count": 7,
   "id": "0d7cc2b2",
   "metadata": {},
   "outputs": [],
   "source": [
    "# Definition of function to get sold properties\n",
    "# \"limit\":\"200\",\"city\":\"New York City\",\"state_code\":\"NY\"\n",
    "def get_sold(city, state_code, limit):\n",
    "\turl = \"https://realty-in-us.p.rapidapi.com/properties/v2/list-sold\"\n",
    "\n",
    "\tquerystring = {\"offset\":\"0\",\"limit\":limit,\"city\":city,\"state_code\":state_code,\"sort\":\"sold_date\"}\n",
    "\n",
    "\theaders = {\n",
    "\t\t\"X-RapidAPI-Host\": \"realty-in-us.p.rapidapi.com\",\n",
    "\t\t\"X-RapidAPI-Key\": \"80d4101192msha3850ddbf66ba87p1c5dc9jsn7ad589c1b934\"\n",
    "\t}\n",
    "\n",
    "\ttry:\n",
    "\t\tresponse_sold = pd.json_normalize(requests.request(\"GET\", url, headers=headers, params=querystring).json(), record_path=\"properties\", sep=\"_\")\n",
    "\t\treturn response_sold\n",
    "\texcept:\n",
    "\t\tprint(\"Error\")"
   ]
  },
  {
   "cell_type": "code",
   "execution_count": 8,
   "id": "932bbe4e",
   "metadata": {},
   "outputs": [],
   "source": [
    "# Funtion to fill NAN values in the whole dataframe\n",
    "def fill_na(df):\n",
    "    columns = df.columns.to_list()\n",
    "    for col in columns:\n",
    "        if df[col].dtype == 'object':\n",
    "            df[col].fillna(\"NA\", inplace=True)\n",
    "        elif df[col].dtype == 'int64':\n",
    "            df[col].fillna(1, inplace=True)\n",
    "        elif df[col].dtype == 'float64':\n",
    "            df[col].fillna(1.0, inplace=True)\n",
    "    return df"
   ]
  },
  {
   "cell_type": "markdown",
   "id": "4e6b94ad",
   "metadata": {},
   "source": [
    "# Retrieving data"
   ]
  },
  {
   "cell_type": "code",
   "execution_count": 9,
   "id": "4e87ecf7",
   "metadata": {},
   "outputs": [],
   "source": [
    "# List of relevant columns\n",
    "sales_cols = ['property_id', 'prop_type', 'prop_status', 'price', 'baths', 'beds', 'address_city', 'address_line', 'address_state_code', \\\n",
    "    'address_state', 'address_county', 'address_lat', 'address_lon', 'address_neighborhood_name']\n",
    "\n",
    "rents_cols = ['property_id', 'prop_type', 'prop_status', 'year_built', 'address_city', 'address_line', 'address_state_code', 'address_state', \\\n",
    "    'address_county', 'address_lat', 'address_lon', 'address_neighborhood_name', 'community_price_max', 'community_price_min']\n",
    "\n",
    "sold_cols = ['property_id', 'prop_type', 'prop_status', 'year_built', 'price', 'baths', 'beds', 'address_city', 'address_line', 'address_state_code', \\\n",
    "    'address_state', 'address_county', 'address_lat', 'address_lon', 'address_neighborhood_name']"
   ]
  },
  {
   "cell_type": "code",
   "execution_count": 19,
   "id": "97c2e41e",
   "metadata": {},
   "outputs": [
    {
     "data": {
      "text/html": [
       "<div>\n",
       "<style scoped>\n",
       "    .dataframe tbody tr th:only-of-type {\n",
       "        vertical-align: middle;\n",
       "    }\n",
       "\n",
       "    .dataframe tbody tr th {\n",
       "        vertical-align: top;\n",
       "    }\n",
       "\n",
       "    .dataframe thead th {\n",
       "        text-align: right;\n",
       "    }\n",
       "</style>\n",
       "<table border=\"1\" class=\"dataframe\">\n",
       "  <thead>\n",
       "    <tr style=\"text-align: right;\">\n",
       "      <th></th>\n",
       "      <th>property_id</th>\n",
       "      <th>prop_type</th>\n",
       "      <th>...</th>\n",
       "      <th>address_lon</th>\n",
       "      <th>address_neighborhood_name</th>\n",
       "    </tr>\n",
       "  </thead>\n",
       "  <tbody>\n",
       "    <tr>\n",
       "      <th>0</th>\n",
       "      <td>M4062586294</td>\n",
       "      <td>single_family</td>\n",
       "      <td>...</td>\n",
       "      <td>-73.940015</td>\n",
       "      <td>Sheepshead Bay</td>\n",
       "    </tr>\n",
       "    <tr>\n",
       "      <th>1</th>\n",
       "      <td>M4266018871</td>\n",
       "      <td>condo</td>\n",
       "      <td>...</td>\n",
       "      <td>-73.983035</td>\n",
       "      <td>Northwestern Brooklyn</td>\n",
       "    </tr>\n",
       "    <tr>\n",
       "      <th>2</th>\n",
       "      <td>M3452096967</td>\n",
       "      <td>condo</td>\n",
       "      <td>...</td>\n",
       "      <td>-73.971112</td>\n",
       "      <td>Central Brooklyn</td>\n",
       "    </tr>\n",
       "    <tr>\n",
       "      <th>3</th>\n",
       "      <td>M9667202457</td>\n",
       "      <td>condo</td>\n",
       "      <td>...</td>\n",
       "      <td>-73.890021</td>\n",
       "      <td>Astoria Heights</td>\n",
       "    </tr>\n",
       "    <tr>\n",
       "      <th>4</th>\n",
       "      <td>M9672918972</td>\n",
       "      <td>condo</td>\n",
       "      <td>...</td>\n",
       "      <td>-73.980105</td>\n",
       "      <td>South Brooklyn</td>\n",
       "    </tr>\n",
       "  </tbody>\n",
       "</table>\n",
       "<p>5 rows × 14 columns</p>\n",
       "</div>"
      ],
      "text/plain": [
       "   property_id      prop_type  ... address_lon  address_neighborhood_name\n",
       "0  M4062586294  single_family  ...  -73.940015             Sheepshead Bay\n",
       "1  M4266018871          condo  ...  -73.983035      Northwestern Brooklyn\n",
       "2  M3452096967          condo  ...  -73.971112           Central Brooklyn\n",
       "3  M9667202457          condo  ...  -73.890021            Astoria Heights\n",
       "4  M9672918972          condo  ...  -73.980105             South Brooklyn\n",
       "\n",
       "[5 rows x 14 columns]"
      ]
     },
     "execution_count": 19,
     "metadata": {},
     "output_type": "execute_result"
    }
   ],
   "source": [
    "# Set the limit to a lower number to first test\n",
    "sales = get_sales(\"New York City\", \"NY\", \"200\")\n",
    "sales = sales[sales_cols]\n",
    "sales.head()"
   ]
  },
  {
   "cell_type": "code",
   "execution_count": null,
   "id": "2ea36b77",
   "metadata": {},
   "outputs": [],
   "source": [
    "rents = get_rent(\"New York City\", \"NY\", \"200\")\n",
    "rents = rents[rents_cols]\n",
    "rents.head()"
   ]
  },
  {
   "cell_type": "code",
   "execution_count": null,
   "id": "7d30073f",
   "metadata": {},
   "outputs": [],
   "source": [
    "sold = get_sold(\"New York City\", \"NY\", \"200\")\n",
    "sold = sold[sold_cols]\n",
    "sold.head()"
   ]
  },
  {
   "cell_type": "code",
   "execution_count": 12,
   "id": "dcac334e",
   "metadata": {},
   "outputs": [],
   "source": [
    "# Remove NAN values from dataframes\n",
    "sales = fill_na(sales)\n",
    "rents = fill_na(rents)\n",
    "sold = fill_na(sold)"
   ]
  },
  {
   "cell_type": "code",
   "execution_count": 13,
   "id": "d6ee1b80",
   "metadata": {},
   "outputs": [
    {
     "data": {
      "text/plain": [
       "property_id                  0\n",
       "prop_type                    0\n",
       "prop_status                  0\n",
       "price                        0\n",
       "baths                        0\n",
       "beds                         0\n",
       "address_city                 0\n",
       "address_line                 0\n",
       "address_state_code           0\n",
       "address_state                0\n",
       "address_county               0\n",
       "address_lat                  0\n",
       "address_lon                  0\n",
       "address_neighborhood_name    0\n",
       "dtype: int64"
      ]
     },
     "execution_count": 13,
     "metadata": {},
     "output_type": "execute_result"
    }
   ],
   "source": [
    "# Check if there are NAN values\n",
    "sales.isna().sum()"
   ]
  },
  {
   "cell_type": "code",
   "execution_count": null,
   "id": "0ad6fa8b",
   "metadata": {},
   "outputs": [],
   "source": [
    "# For backup purpose, save dataframes into csv files\n",
    "sales.to_csv(\"sales.csv\", index=False)\n",
    "rents.to_csv(\"rents.csv\", index=False)\n",
    "sold.to_csv(\"sold.csv\", index=False)"
   ]
  },
  {
   "cell_type": "code",
   "execution_count": null,
   "id": "dce5a7dc",
   "metadata": {},
   "outputs": [],
   "source": [
    "# sales = pd.read_csv(\"sales.csv\")\n",
    "# rents = pd.read_csv(\"rents.csv\")\n",
    "# sold = pd.read_csv(\"sold.csv\")"
   ]
  },
  {
   "cell_type": "markdown",
   "id": "cfff8428",
   "metadata": {},
   "source": [
    "# Inserting data into MySQL"
   ]
  },
  {
   "cell_type": "code",
   "execution_count": 14,
   "id": "4076d61c",
   "metadata": {},
   "outputs": [],
   "source": [
    "# Create a connection with the database service in local machine\n",
    "con = pymysql.connect(host ='db-realty.ctu8ks44oyou.us-east-1.rds.amazonaws.com', port=int(3306), user='admin', passwd='123qweasd')\n",
    "\n",
    "# Creating a cursor object\n",
    "cursor = con.cursor()"
   ]
  },
  {
   "cell_type": "code",
   "execution_count": 15,
   "id": "2493a08b",
   "metadata": {},
   "outputs": [
    {
     "data": {
      "text/plain": [
       "0"
      ]
     },
     "execution_count": 15,
     "metadata": {},
     "output_type": "execute_result"
    }
   ],
   "source": [
    "# Use the realty schema\n",
    "cursor.execute('''\n",
    "    USE realty;\n",
    "''')"
   ]
  },
  {
   "cell_type": "code",
   "execution_count": 16,
   "id": "d42ed492",
   "metadata": {},
   "outputs": [],
   "source": [
    "# Convert the Dataframe into a list of arrays\n",
    "sales_tuples = tuple(sales.to_records(index=False))\n",
    "\n",
    "for data in range(len(sales_tuples)):\n",
    "    \n",
    "    # Create a new record\n",
    "    query = \"INSERT INTO sales (property_id, prop_type, prop_status, price, baths, beds, address_city, address_line, address_state_code, address_state, \\\n",
    "        address_county, addres_lat, address_lon, address_neighborhood_name) VALUES {}\".format(sales_tuples[data])\n",
    "    \n",
    "    # Execute the query\n",
    "    cursor.execute(query)"
   ]
  },
  {
   "cell_type": "code",
   "execution_count": null,
   "id": "e7ed1573",
   "metadata": {},
   "outputs": [],
   "source": [
    "# Convert the Dataframe into a list of arrays\n",
    "rents_tuples = tuple(rents.to_records(index=False))\n",
    "\n",
    "for data in range(len(rents_tuples)):\n",
    "    \n",
    "    # Create a new record\n",
    "    query = '''\n",
    "        INSERT INTO rents (property_id, prop_type, prop_status, year_built, address_city, address_line, address_state_code, \n",
    "        address_state, address_county, address_lat, address_lon, address_neighborhood_name, community_price_max, community_price_min) \n",
    "        VALUES {}'''.format(rents_tuples[data])\n",
    "    \n",
    "    # Execute the query\n",
    "    cursor.execute(query)"
   ]
  },
  {
   "cell_type": "code",
   "execution_count": null,
   "id": "9d1a55df",
   "metadata": {},
   "outputs": [],
   "source": [
    "# Convert the Dataframe into a list of arrays\n",
    "sold_tuples = tuple(sold.to_records(index=False))\n",
    "\n",
    "for data in range(len(sold_tuples)):\n",
    "    \n",
    "    # Create a new record\n",
    "    query = '''\n",
    "        INSERT INTO sold (property_id, prop_type, prop_status, year_built, price, baths, beds, address_city, address_line, address_state_code, \n",
    "        address_state, address_county, address_lat, address_lon, address_neighborhood_name) \n",
    "        VALUES {}'''.format(sold_tuples[data])\n",
    "    \n",
    "    # Execute the query\n",
    "    cursor.execute(query)"
   ]
  },
  {
   "cell_type": "code",
   "execution_count": 17,
   "id": "6dbaa1ac",
   "metadata": {},
   "outputs": [],
   "source": [
    "# Commit\n",
    "con.commit()"
   ]
  },
  {
   "cell_type": "code",
   "execution_count": 38,
   "id": "6a8872ff",
   "metadata": {},
   "outputs": [
    {
     "ename": "Error",
     "evalue": "Already closed",
     "output_type": "error",
     "traceback": [
      "\u001b[1;31m---------------------------------------------------------------------------\u001b[0m",
      "\u001b[1;31mError\u001b[0m                                     Traceback (most recent call last)",
      "\u001b[1;32md:\\Meus documentos\\dev\\personal-projects\\zzz-web-scraping_API\\main.ipynb Cell 26'\u001b[0m in \u001b[0;36m<module>\u001b[1;34m\u001b[0m\n\u001b[1;32m----> <a href='vscode-notebook-cell:/d%3A/Meus%20documentos/dev/personal-projects/zzz-web-scraping_API/main.ipynb#ch0000029?line=0'>1</a>\u001b[0m con\u001b[39m.\u001b[39;49mclose()\n",
      "File \u001b[1;32m~\\AppData\\Local\\Programs\\Python\\Python310\\lib\\site-packages\\pymysql\\connections.py:404\u001b[0m, in \u001b[0;36mConnection.close\u001b[1;34m(self)\u001b[0m\n\u001b[0;32m    <a href='file:///c%3A/Users/Arthur/AppData/Local/Programs/Python/Python310/lib/site-packages/pymysql/connections.py?line=394'>395</a>\u001b[0m \u001b[39m\"\"\"\u001b[39;00m\n\u001b[0;32m    <a href='file:///c%3A/Users/Arthur/AppData/Local/Programs/Python/Python310/lib/site-packages/pymysql/connections.py?line=395'>396</a>\u001b[0m \u001b[39mSend the quit message and close the socket.\u001b[39;00m\n\u001b[0;32m    <a href='file:///c%3A/Users/Arthur/AppData/Local/Programs/Python/Python310/lib/site-packages/pymysql/connections.py?line=396'>397</a>\u001b[0m \n\u001b[1;32m   (...)\u001b[0m\n\u001b[0;32m    <a href='file:///c%3A/Users/Arthur/AppData/Local/Programs/Python/Python310/lib/site-packages/pymysql/connections.py?line=400'>401</a>\u001b[0m \u001b[39m:raise Error: If the connection is already closed.\u001b[39;00m\n\u001b[0;32m    <a href='file:///c%3A/Users/Arthur/AppData/Local/Programs/Python/Python310/lib/site-packages/pymysql/connections.py?line=401'>402</a>\u001b[0m \u001b[39m\"\"\"\u001b[39;00m\n\u001b[0;32m    <a href='file:///c%3A/Users/Arthur/AppData/Local/Programs/Python/Python310/lib/site-packages/pymysql/connections.py?line=402'>403</a>\u001b[0m \u001b[39mif\u001b[39;00m \u001b[39mself\u001b[39m\u001b[39m.\u001b[39m_closed:\n\u001b[1;32m--> <a href='file:///c%3A/Users/Arthur/AppData/Local/Programs/Python/Python310/lib/site-packages/pymysql/connections.py?line=403'>404</a>\u001b[0m     \u001b[39mraise\u001b[39;00m err\u001b[39m.\u001b[39mError(\u001b[39m\"\u001b[39m\u001b[39mAlready closed\u001b[39m\u001b[39m\"\u001b[39m)\n\u001b[0;32m    <a href='file:///c%3A/Users/Arthur/AppData/Local/Programs/Python/Python310/lib/site-packages/pymysql/connections.py?line=404'>405</a>\u001b[0m \u001b[39mself\u001b[39m\u001b[39m.\u001b[39m_closed \u001b[39m=\u001b[39m \u001b[39mTrue\u001b[39;00m\n\u001b[0;32m    <a href='file:///c%3A/Users/Arthur/AppData/Local/Programs/Python/Python310/lib/site-packages/pymysql/connections.py?line=405'>406</a>\u001b[0m \u001b[39mif\u001b[39;00m \u001b[39mself\u001b[39m\u001b[39m.\u001b[39m_sock \u001b[39mis\u001b[39;00m \u001b[39mNone\u001b[39;00m:\n",
      "\u001b[1;31mError\u001b[0m: Already closed"
     ]
    }
   ],
   "source": [
    "# Close connection\n",
    "con.close()"
   ]
  }
 ],
 "metadata": {
  "interpreter": {
   "hash": "d56c3d14ea9991e943607aaebbc638fd1a0bf32b388456ff8fce30f8fe2dda91"
  },
  "kernelspec": {
   "display_name": "Python 3.10.4 64-bit",
   "language": "python",
   "name": "python3"
  },
  "language_info": {
   "codemirror_mode": {
    "name": "ipython",
    "version": 3
   },
   "file_extension": ".py",
   "mimetype": "text/x-python",
   "name": "python",
   "nbconvert_exporter": "python",
   "pygments_lexer": "ipython3",
   "version": "3.10.4"
  }
 },
 "nbformat": 4,
 "nbformat_minor": 5
}
