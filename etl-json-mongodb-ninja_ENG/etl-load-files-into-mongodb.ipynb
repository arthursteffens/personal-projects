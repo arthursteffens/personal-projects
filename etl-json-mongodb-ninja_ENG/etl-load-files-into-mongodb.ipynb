{
 "cells": [
  {
   "cell_type": "markdown",
   "id": "3075e72a",
   "metadata": {},
   "source": [
    "# Script used to insert 256k+ json files into MongoDB"
   ]
  },
  {
   "cell_type": "code",
   "execution_count": 10,
   "id": "1d7c11dc",
   "metadata": {},
   "outputs": [],
   "source": [
    "# Packages used on this script\n",
    "\n",
    "from json import load\n",
    "from json import dump\n",
    "from glob import iglob\n",
    "from os import listdir\n",
    "from os import path\n",
    "from pymongo import MongoClient"
   ]
  },
  {
   "cell_type": "code",
   "execution_count": 11,
   "id": "c6eebc06",
   "metadata": {},
   "outputs": [],
   "source": [
    "# Function to read json file\n",
    "\n",
    "def read_json(file_json):\n",
    "    with open(file_json, 'r') as f:\n",
    "        return json.load(f)"
   ]
  },
  {
   "cell_type": "code",
   "execution_count": 12,
   "id": "3f71f7db",
   "metadata": {},
   "outputs": [],
   "source": [
    "# Connection to MongoDB\n",
    "\n",
    "client = MongoClient('localhost', 27017)\n",
    "db = client['ninja']\n",
    "collection = db['johnny']"
   ]
  },
  {
   "cell_type": "code",
   "execution_count": 13,
   "id": "25eca3dc",
   "metadata": {},
   "outputs": [],
   "source": [
    "# Create a list with each file in the \"jsonPath\" directory\n",
    "jsonPath = './json256k/'\n",
    "file = os.listdir(jsonPath)"
   ]
  },
  {
   "cell_type": "code",
   "execution_count": 25,
   "id": "b5a282d3",
   "metadata": {},
   "outputs": [
    {
     "name": "stdout",
     "output_type": "stream",
     "text": [
      "There are 256093 files in ./json256k/ directory.\n"
     ]
    }
   ],
   "source": [
    "# Function 'iglob' used to list and count json files in the directory\n",
    "\n",
    "countFiles = sum(1 for i in iglob(jsonPath + \"*.json\"))\n",
    "print(\"There are {} files in {} directory.\".format(countFiles, jsonPath))"
   ]
  },
  {
   "cell_type": "code",
   "execution_count": null,
   "id": "900157f0",
   "metadata": {},
   "outputs": [],
   "source": [
    "# Modify the shape of json files easier reading and modeling in the database \n",
    "\n",
    "for i in range(countFiles):\n",
    "    file_json = jsonPath + file[i]\n",
    "    \n",
    "    if os.path.exists(file_json):\n",
    "        data = read_json(file_json)\n",
    "        \n",
    "        name = \"Johnny #\"+ str(i+1).zfill(6)\n",
    "        \n",
    "        # Create a dictionary\n",
    "        dict = {\n",
    "            \"name\": name,\n",
    "            }\n",
    "        \n",
    "        # Populate dictionary with json data\n",
    "        for j in range(7):\n",
    "            tt = data[\"attributes\"][j][\"trait_type\"]\n",
    "            value = data[\"attributes\"][j][\"value\"]\n",
    "            dict[tt] = value\n",
    "        \n",
    "        # Save json file with modified information\n",
    "        with open(file_json, \"w\") as outfile:\n",
    "            json.dump(dict, outfile)\n",
    "            print(\"File {} modified\".format(file[i]))\n",
    "                  \n",
    "    else:\n",
    "        print(\"No more files\")\n",
    "        continue"
   ]
  },
  {
   "cell_type": "code",
   "execution_count": null,
   "id": "c0b9749f",
   "metadata": {},
   "outputs": [],
   "source": [
    "# Insert modified file into MongodB 'johnny' collection\n",
    "\n",
    "for i in range(countFiles):\n",
    "    file_json = jsonPath + file[i]\n",
    "    file_data = read_json(file_json)\n",
    "    collection.insert_one(file_data)\n",
    "    print(\"File {} loaded\".format(str(i+1)))"
   ]
  },
  {
   "cell_type": "code",
   "execution_count": null,
   "id": "54db1b7e",
   "metadata": {},
   "outputs": [],
   "source": [
    "# Close DB connection\n",
    "\n",
    "client.close()"
   ]
  }
 ],
 "metadata": {
  "kernelspec": {
   "display_name": "Python 3 (ipykernel)",
   "language": "python",
   "name": "python3"
  },
  "language_info": {
   "codemirror_mode": {
    "name": "ipython",
    "version": 3
   },
   "file_extension": ".py",
   "mimetype": "text/x-python",
   "name": "python",
   "nbconvert_exporter": "python",
   "pygments_lexer": "ipython3",
   "version": "3.10.1"
  }
 },
 "nbformat": 4,
 "nbformat_minor": 5
}
